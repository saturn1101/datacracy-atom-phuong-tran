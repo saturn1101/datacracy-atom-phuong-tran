{
  "nbformat": 4,
  "nbformat_minor": 0,
  "metadata": {
    "colab": {
      "name": "Week 1 Assignment.ipynb",
      "provenance": [],
      "collapsed_sections": [],
      "authorship_tag": "ABX9TyPmpsZKOsv1ExG8/UOeF5mE",
      "include_colab_link": true
    },
    "kernelspec": {
      "name": "python3",
      "display_name": "Python 3"
    },
    "language_info": {
      "name": "python"
    }
  },
  "cells": [
    {
      "cell_type": "markdown",
      "metadata": {
        "id": "view-in-github",
        "colab_type": "text"
      },
      "source": [
        "<a href=\"https://colab.research.google.com/github/saturn1101/datacracy-atom-phuong-tran/blob/main/Week_1_Assignment.ipynb\" target=\"_parent\"><img src=\"https://colab.research.google.com/assets/colab-badge.svg\" alt=\"Open In Colab\"/></a>"
      ]
    },
    {
      "cell_type": "markdown",
      "metadata": {
        "id": "2XiO7vHQTCs8"
      },
      "source": [
        "***The submission includes 5 required assignments & 7 optional practice projects in the book \"Automate the boring stuff with Python\"***"
      ]
    },
    {
      "cell_type": "markdown",
      "metadata": {
        "id": "Aa3iOh3LTuYC"
      },
      "source": [
        "**A. Required Assignments**"
      ]
    },
    {
      "cell_type": "markdown",
      "metadata": {
        "id": "P1TjCvnijm4Q"
      },
      "source": [
        "1. My First Program"
      ]
    },
    {
      "cell_type": "code",
      "metadata": {
        "id": "1Yo6U3hAvTwJ"
      },
      "source": [
        "# This program says hello and asks for my name.\n",
        "\n",
        "print('Hello, world!')\n",
        "print('What is your name?') # ask for their name\n",
        "myName = input()\n",
        "print('It is good to meet you, ' + myName)\n",
        "print('The length of your name is:')\n",
        "print(len(myName))\n",
        "print('What is your age?') # ask for their age\n",
        "myAge = input()\n",
        "print('You will be ' + str(int(myAge) + 1) + ' in a year.')"
      ],
      "execution_count": null,
      "outputs": []
    },
    {
      "cell_type": "markdown",
      "metadata": {
        "id": "q2PuPonvjsdJ"
      },
      "source": [
        "2. A Short Program: Rock, Paper, Scissors"
      ]
    },
    {
      "cell_type": "code",
      "metadata": {
        "id": "AN-OwcKz9Dam"
      },
      "source": [
        "import random, sys \n",
        "\n",
        "print('ROCK, PAPER, SCISSORS')\n",
        "\n",
        "# These variables keep track of the number of wins, losses, and ties. \n",
        "wins = 0\n",
        "losses = 0\n",
        "ties = 0\n",
        "\n",
        "while True: # The main game loop.\n",
        "  print('%s Wins, %s Losses, %s Ties' % (wins, losses, ties)) \n",
        "  while True: # The player input loop.\n",
        "    print('Enter your move: (r)ock (p)aper (s)cissors or (q)uit')\n",
        "    playerMove = input()\n",
        "    if playerMove == 'q':\n",
        "      sys.exit() # Quit the program.\n",
        "    if playerMove == 'r' or playerMove == 'p' or playerMove == 's':\n",
        "      break # Break out of the player input loop.\n",
        "    print('Type one of r, p, s, or q.')\n",
        "\n",
        "  # Display what the player chose\n",
        "  if playerMove == 'r':\n",
        "    print('ROCK versus...')\n",
        "  elif playerMove == 'p':\n",
        "    print('PAPER versus...')\n",
        "  elif playerMove == 's':\n",
        "    print('SCISSORS versus...')\n",
        "\n",
        "  # Display what the computer chose:\n",
        "  randomNumber = random.randint(1, 3)\n",
        "  if randomNumber == 1:\n",
        "    computerMove = 'r'\n",
        "    print('ROCK')\n",
        "  elif randomNumber == 2:\n",
        "    computerMove = 'p'\n",
        "    print('PAPER')\n",
        "  elif randomNumber == 3:\n",
        "    computerMove = 's'\n",
        "    print('SCISSORS')\n",
        "\n",
        "  # Display and record the win/loss/tie:\n",
        "  if playerMove == computerMove:\n",
        "    print('It is a tie!')\n",
        "    ties = ties + 1\n",
        "  elif playerMove == 'r' and computerMove == 's':\n",
        "    print('You win!')\n",
        "    wins = wins + 1\n",
        "  elif playerMove == 'p' and computerMove == 'r':\n",
        "    print('You win!')\n",
        "    wins = wins + 1\n",
        "  elif playerMove == 's' and computerMove == 'p':\n",
        "    print('You win!')\n",
        "    wins = wins + 1\n",
        "  elif playerMove == 'r' and computerMov == 'p':\n",
        "    print('You lose!')\n",
        "    losses = losses + 1\n",
        "  elif playerMove == 'p'and computerMove == 's':\n",
        "    print('You lose!')\n",
        "    losses = losses + 1\n",
        "  elif playerMove == 's' and computerMove == 'r':\n",
        "    print('You lose!')\n",
        "    losses = losses + 1"
      ],
      "execution_count": null,
      "outputs": []
    },
    {
      "cell_type": "markdown",
      "metadata": {
        "id": "dspgDZoYj4ww"
      },
      "source": [
        "3. A Short Program: Zigzag"
      ]
    },
    {
      "cell_type": "code",
      "metadata": {
        "id": "VkCz8zZ3u6t4"
      },
      "source": [
        "import time, sys\n",
        "indent = 0 # How many spaces to indent.\n",
        "indentIncreasing = True # Whether the indentation is increasing or not.\n",
        "\n",
        "try:\n",
        "  while True: # The main program loop.\n",
        "    print(' ' * indent, end='')\n",
        "    print('********')\n",
        "    time.sleep(0.1) # Pause for 1/10 of a second.\n",
        "\n",
        "    if indentIncreasing:\n",
        "      # Increase the number of spaces:\n",
        "      indent = indent + 1\n",
        "      if indent == 20:\n",
        "        # Change direction:\n",
        "        indentIncreasing = False\n",
        "    else:\n",
        "      # Decrease the number of spaces:\n",
        "      indent = indent - 1\n",
        "      if indent == 0:\n",
        "        # Change direction:\n",
        "        indentIncreasing = True\n",
        "except KeyboardInterrupt:\n",
        "  sys.exit()"
      ],
      "execution_count": null,
      "outputs": []
    },
    {
      "cell_type": "markdown",
      "metadata": {
        "id": "pQ-eRx_Uxii7"
      },
      "source": [
        "4. A Short Program: Conway's Game of Life"
      ]
    },
    {
      "cell_type": "code",
      "metadata": {
        "id": "gJO0vegvxiLI"
      },
      "source": [
        "# Conway's Game of Life \n",
        "import random, time, copy \n",
        "WIDTH = 60\n",
        "HEIGHT = 20\n",
        "\n",
        "# Create a list of list for the cells:\n",
        "nextCells = []\n",
        "for x in range(WIDTH):\n",
        "  column = [] # Create a new column.\n",
        "  for y in range(HEIGHT):\n",
        "    if random.randint(0, 1) == 0:\n",
        "      column.append('#') # Add a living cell.\n",
        "    else:\n",
        "      column.append(' ') # Add a dead cell.\n",
        "  nextCells.append(column) # nextCells is a list of column lists.\n",
        "\n",
        "while True: # Main program loop.\n",
        "  print('\\n\\n\\n\\n\\n') # Separate each step with newlines.\n",
        "  currentCells = copy.deepcopy(nextCells)\n",
        "\n",
        "  # Print currentCells on the screen:\n",
        "  for y in range(HEIGHT):\n",
        "    for x in range(WIDTH):\n",
        "      print(currentCells[x][y], end='') # Print the # or space.\n",
        "    print() # Print a newline at the end of the row.\n",
        "\n",
        "  # Calculate the next step's cells based on current step's cells:\n",
        "  for x in range(WIDTH):\n",
        "    for y in range(HEIGHT):\n",
        "      # Get neighboring coordinates:\n",
        "      # `% WIDTH` ensures leftCoord is always between 0 and WIDTH - 1 \n",
        "      leftCoord = (x - 1) % WIDTH\n",
        "      rightCoord = (x + 1) % WIDTH\n",
        "      aboveCoord = (y - 1) % HEIGHT\n",
        "      belowCoord = (y + 1) % HEIGHT\n",
        "\n",
        "      # Count number of living neighbors:\n",
        "      numNeighbors = 0\n",
        "      if currentCells[leftCoord][aboveCoord] == '#':\n",
        "        numNeighbors += 1 # Top-left neighbor is alive.\n",
        "      if currentCells[x][aboveCoord] == '#':\n",
        "        numNeighbors += 1 # Top neighbor is alive.\n",
        "      if currentCells[rightCoord][aboveCoord] == '#':\n",
        "        numNeighbors += 1 # Top-right neighbor is alive.\n",
        "      if currentCells[leftCoord][y] == '#':\n",
        "        numNeighbors += 1 # Left neighbor is alive.\n",
        "      if currentCells[rightCoord][y] == '#':\n",
        "        numNeighbors += 1 # Right neighbor is alive.\n",
        "      if currentCells[leftCoord][belowCoord] == '#':\n",
        "        numNeighbors += 1 # Bottom-left neighbor is alive.\n",
        "      if currentCells[x][belowCoord] == '#':\n",
        "        numNeighbors += 1 # Bottom neighbor is alive.\n",
        "      if currentCells[rightCoord][belowCoord] == '#':\n",
        "        numNeighbors += 1 # Bottom-right neighbor is alive.\n",
        "\n",
        "      # Set cell based on Conway's Game of Life rules:\n",
        "      if currentCells[x][y] == '#' and (numNeighbors == 2 or numNeighbors == 3):\n",
        "        # Living cells with 2 or 3 neighbors stay alive:\n",
        "        nextCells[x][y] = '#'\n",
        "      elif currentCells[x][y] == ' ' and numNeighbors == 3:\n",
        "        # Dead cells with 3 neighbors become alive:\n",
        "        nextCells[x][y] = '#'\n",
        "      else:\n",
        "        # Everything else dies or stays dead:\n",
        "        nextCells[x][y] = ' '\n",
        "  time.sleep(1) # Add a 1-second pause to reduce flickering.\n"
      ],
      "execution_count": null,
      "outputs": []
    },
    {
      "cell_type": "markdown",
      "metadata": {
        "id": "N-vbWI0u0gUB"
      },
      "source": [
        "5. A Tic-Tac-Toe Board"
      ]
    },
    {
      "cell_type": "code",
      "metadata": {
        "id": "Zk1jmzFH0mko"
      },
      "source": [
        "# create the Board structure\n",
        "theBoard = {'top-L': ' ', 'top-M': ' ', 'top-R': ' ',\n",
        "            'mid-L': ' ', 'mid-M': ' ', 'mid-R': ' ',\n",
        "            'low-L': ' ', 'low-M': ' ', 'low-R': ' '}\n",
        "# define function to print the Board\n",
        "def printBoard(board):\n",
        "  print(board['top-L'] + '|' + board['top-M'] + '|' + board['top-R'])\n",
        "  print('-+-+-')\n",
        "  print(board['mid-L'] + '|' + board['mid-M'] + '|' + board['mid-R'])\n",
        "  print('-+-+-')\n",
        "  print(board['low-L'] + '|' + board['low-M'] + '|' + board['low-R'])\n",
        "\n",
        "# Greetings\n",
        "print('Hello there! Wanna play Tic-Tac-Toe?')\n",
        "\n",
        "# X goes first by default\n",
        "turn = 'X'\n",
        "\n",
        "# Create a tuple that includes all winning possibilities\n",
        "winList = (('top-L', 'top-M', 'top-R'), ('mid-L', 'mid-M', 'mid-R'), ('low-L', 'low-M', 'low-R'),\n",
        "           ('top-L', 'mid-L', 'low-L'), ('top-M', 'mid-M', 'low-M'), ('top-R', 'mid-R', 'low-R'),\n",
        "           ('top-L', 'mid-M', 'low-R'), ('top-R', 'mid-M', 'low-L'))\n",
        "\n",
        "# Create a list of X & O coordinates\n",
        "coordinateX = []\n",
        "coordinateO = []\n",
        "countX = 0\n",
        "countO = 0\n",
        "\n",
        "# Main program loop\n",
        "for i in range(9):\n",
        "  printBoard(theBoard)\n",
        "\n",
        "  # Check if the game should end\n",
        "  if countX == 3 or countO == 3:\n",
        "    break\n",
        "\n",
        "  # Asking for user input\n",
        "  print('Turn for ' + turn + '. Move on which space?')\n",
        "  move = input()\n",
        "\n",
        "  # Set cell using user input\n",
        "  if theBoard[move] == ' ':\n",
        "    theBoard[move] = turn\n",
        "    # Switch turns\n",
        "    if turn == 'X':\n",
        "      coordinateX.append(move)\n",
        "      turn = 'O'\n",
        "    else:\n",
        "      coordinateO.append(move)\n",
        "      turn = 'X'\n",
        "  else:\n",
        "    print('Invalid move. Please try again!')\n",
        "  \n",
        "  # Check to see if any player has won\n",
        "  for index, item in enumerate(winList):\n",
        "    for check in item:\n",
        "      if check in coordinateX:\n",
        "        countX += 1\n",
        "      elif check in coordinateO:\n",
        "        countO += 1\n",
        "      else:\n",
        "        countX = 0\n",
        "        countO = 0\n",
        "        break\n",
        "    if countX == 3:\n",
        "      print('Congrats! X won!')\n",
        "      break\n",
        "    elif countO == 3:\n",
        "      print('Congrats! O won!')\n",
        "      break"
      ],
      "execution_count": null,
      "outputs": []
    },
    {
      "cell_type": "markdown",
      "metadata": {
        "id": "9dMRmdZJT2wU"
      },
      "source": [
        "**B. Option Practice Projects**"
      ]
    },
    {
      "cell_type": "markdown",
      "metadata": {
        "id": "mtRTVAT1T_yP"
      },
      "source": [
        "1. The Collatz Sequence"
      ]
    },
    {
      "cell_type": "code",
      "metadata": {
        "id": "cm9qGaStT-Yu"
      },
      "source": [
        "# Create function collatz\n",
        "def collatz(number):\n",
        "  if number % 2 == 0:\n",
        "    print(number // 2)\n",
        "    return number // 2\n",
        "  if number % 2 == 1:\n",
        "    print(3 * number + 1)\n",
        "    return 3 * number + 1\n",
        "\n",
        "# Ask for user input\n",
        "print('Please input an integer:')\n",
        "number = input()\n",
        "\n",
        "# Call collatz function until the function return 1\n",
        "try:\n",
        "    int(number)\n",
        "    while collatz(int(number)) != 1:\n",
        "      number = collatz(int(number))\n",
        "except ValueError:\n",
        "    print(\"You must input an integer!\")"
      ],
      "execution_count": null,
      "outputs": []
    },
    {
      "cell_type": "markdown",
      "metadata": {
        "id": "EUkWwZPHdGoy"
      },
      "source": [
        "2. Comma Code"
      ]
    },
    {
      "cell_type": "code",
      "metadata": {
        "id": "m2BtyDKodWVI"
      },
      "source": [
        "def comma(list):\n",
        "  # Let user know if the list is empty\n",
        "  if list == []:\n",
        "    print('An empty list')\n",
        "  # If the list is not empty, create a string that meets the conditions\n",
        "  else:\n",
        "    string = ''\n",
        "    for index, item in enumerate(list):\n",
        "      if item == list[0]:\n",
        "        string = str(item)\n",
        "      elif item == list[len(list) - 1]:\n",
        "        string += ', and ' + str(item)\n",
        "      else:\n",
        "        string += ', ' + str(item)\n",
        "    print(string)"
      ],
      "execution_count": null,
      "outputs": []
    },
    {
      "cell_type": "markdown",
      "metadata": {
        "id": "arjRpso8Wquo"
      },
      "source": [
        "3. Coin Flip Streaks"
      ]
    },
    {
      "cell_type": "code",
      "metadata": {
        "id": "-R2EUAadW-FK"
      },
      "source": [
        "import random\n",
        "numberOfStreaks = 0\n",
        "list = []\n",
        "countH = 0\n",
        "countO = 0\n",
        "for experimentNumber in range(10000):\n",
        "  # Create a list of 100 'heads' or 'tails' values\n",
        "  if random.randint(0, 1) == 0:\n",
        "    list.append('H')\n",
        "  else:\n",
        "    list.append('O')\n",
        "\n",
        "  # Check if there is a streak of 6 heads or tails in a row\n",
        "  if list[experimentNumber] == 'O':\n",
        "    countO += 1\n",
        "    countH = 0\n",
        "  elif list[experimentNumber] == 'H':\n",
        "    countO = 0\n",
        "    countH += 1\n",
        "\n",
        "  if countH == 6 or countO == 6:\n",
        "    numberOfStreaks += 1\n",
        "    countH = 0\n",
        "    countO = 0\n",
        "\n",
        "print('Chance of streak: %s%%' % (numberOfStreaks / 100))"
      ],
      "execution_count": null,
      "outputs": []
    },
    {
      "cell_type": "markdown",
      "metadata": {
        "id": "bhSO87GEOfzv"
      },
      "source": [
        "4. Character Picture Grid"
      ]
    },
    {
      "cell_type": "code",
      "metadata": {
        "id": "I6snNv4TOl5a"
      },
      "source": [
        "grid = [['.', '.', '.', '.', '.', '.'], \n",
        "        ['.', 'O', 'O', '.', '.', '.'], \n",
        "        ['O', 'O', 'O', 'O', '.', '.'], \n",
        "        ['O', 'O', 'O', 'O', 'O', '.'],\n",
        "        ['.', 'O', 'O', 'O', 'O', 'O'], \n",
        "        ['O', 'O', 'O', 'O', 'O', '.'], \n",
        "        ['O', 'O', 'O', 'O', '.', '.'], \n",
        "        ['.', 'O', 'O', '.', '.', '.'], \n",
        "        ['.', '.', '.', '.', '.', '.']]\n",
        "\n",
        "for y in range(len(grid[y])):\n",
        "  for x in range(len(grid)):\n",
        "    print(grid[x][y], end='')\n",
        "    if x == len(grid) - 1:\n",
        "      print('\\n')"
      ],
      "execution_count": null,
      "outputs": []
    },
    {
      "cell_type": "markdown",
      "metadata": {
        "id": "Zychc-JP5IAs"
      },
      "source": [
        "5. Chess Dictionary Validator"
      ]
    },
    {
      "cell_type": "code",
      "metadata": {
        "id": "oKFfqjl-5OAM"
      },
      "source": [
        "def isValidChessBoard(dict):\n",
        "  # Check if the board has exactly one black king & one white king\n",
        "  countbk = 0\n",
        "  countwk = 0\n",
        "  for v in dict.values():\n",
        "    if v == 'bking':\n",
        "      countbk += 1\n",
        "    if v == 'wking':\n",
        "      countwk += 1\n",
        "  if countbk != 1 or countwk != 1:\n",
        "    return False\n",
        "  \n",
        "  # Check if each player only has at most 16 pieces\n",
        "  if len(dict.items()) > 16:\n",
        "    return False\n",
        "\n",
        "  # Check if each player only has at most 8 pawns\n",
        "  countbp = 0\n",
        "  countwp = 0\n",
        "  for p in dict.values():\n",
        "    if p == 'bpawn':\n",
        "      countbp += 1\n",
        "    elif p == 'wpawn':\n",
        "      countwp += 1\n",
        "    if countbp > 8 or countwp > 8:\n",
        "      return False\n",
        "\n",
        "  # Check if all pieces are on a valid space from 1a to 8h\n",
        "  listAtoH = ['a', 'b', 'c', 'd', 'e', 'f', 'g', 'h']\n",
        "  for k in dict.keys():\n",
        "    if len(k) > 2:\n",
        "      return False\n",
        "    if int(k[0]) > 8 or int(k[0]) < 1:\n",
        "      return False\n",
        "    if k[1] not in listAtoH:\n",
        "      return False\n",
        "\n",
        "  # Check all piece names\n",
        "  color = ['b', 'w']\n",
        "  role = ['pawn', 'knight', 'bishop', 'rook', 'queen', 'king']\n",
        "  pieceName = []\n",
        "\n",
        "  for c in color:\n",
        "    for r in role:\n",
        "      pieceName.append(c + r)\n",
        "\n",
        "  for v in dict.values():\n",
        "    if v not in pieceName:\n",
        "      return False\n",
        "  \n",
        "  # Return True if all conditions are met\n",
        "  return True"
      ],
      "execution_count": null,
      "outputs": []
    },
    {
      "cell_type": "markdown",
      "metadata": {
        "id": "DnV7bPYca7aZ"
      },
      "source": [
        "6. Fantasy Game Inventory"
      ]
    },
    {
      "cell_type": "code",
      "metadata": {
        "id": "-g07Hm0NbCUX"
      },
      "source": [
        "stuff = {'rope': 1, 'torch': 6, 'gold coin': 42, 'dagger': 1, 'arrow': 12}\n",
        "\n",
        "def displayInventory(inventory):\n",
        "  print(\"Inventory:\")\n",
        "  item_total = 0\n",
        "  for k, v in inventory.items():\n",
        "    print(v, k)\n",
        "    item_total += v\n",
        "  print(\"Total number of items: \" + str(item_total))\n",
        "\n",
        "displayInventory(stuff)"
      ],
      "execution_count": null,
      "outputs": []
    },
    {
      "cell_type": "markdown",
      "metadata": {
        "id": "nXrmug-yMRCI"
      },
      "source": [
        "7. List to Dictionary Function for Fantasy Game Inventory"
      ]
    },
    {
      "cell_type": "code",
      "metadata": {
        "id": "aDIack05MlZY"
      },
      "source": [
        "def addToInventory(inventory, addedItems):\n",
        "  for k in addedItems:\n",
        "    inventory.setdefault(k, 0)\n",
        "    inventory[k] += 1\n",
        "  return inventory\n",
        "\n",
        "inv = {'gold coin': 42, 'rope': 1}\n",
        "dragonLoot = ['gold coin', 'dagger', 'gold coin', 'gold coin', 'ruby']\n",
        "inv = addToInventory(inv, dragonLoot)\n",
        "displayInventory(inv)"
      ],
      "execution_count": null,
      "outputs": []
    }
  ]
}